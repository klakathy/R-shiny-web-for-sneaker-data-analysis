{
  "nbformat": 4,
  "nbformat_minor": 0,
  "metadata": {
    "colab": {
      "name": "“stox.ipynb”的副本",
      "version": "0.3.2",
      "provenance": [],
      "collapsed_sections": []
    },
    "kernelspec": {
      "name": "python3",
      "display_name": "Python 3"
    }
  },
  "cells": [
    {
      "cell_type": "code",
      "metadata": {
        "id": "p2krcMFkOyAu",
        "colab_type": "code",
        "colab": {}
      },
      "source": [
        "!pip install selenium\n",
        "import selenium\n",
        "from selenium import webdriver"
      ],
      "execution_count": 0,
      "outputs": []
    },
    {
      "cell_type": "code",
      "metadata": {
        "id": "yYhNPKIBOXQb",
        "colab_type": "code",
        "colab": {}
      },
      "source": [
        "import platform;   \n",
        "import requests;\n",
        "import os\n",
        "import codecs\n",
        "from bs4 import BeautifulSoup;\n",
        "import json\n",
        "import random\n",
        "import re\n",
        "\n",
        "from tqdm import tqdm\n",
        "from tqdm._tqdm import trange\n",
        "\n",
        "import time\n",
        "def sleep(mytime=\"\"):\n",
        "    time.sleep(mytime)\n",
        "\n",
        "import socket\n",
        "import urllib\n",
        "import urllib.request\n",
        "import urllib.error\n",
        "\n",
        "from urllib import request,parse\n",
        "\n",
        "from google.colab import files"
      ],
      "execution_count": 0,
      "outputs": []
    },
    {
      "cell_type": "code",
      "metadata": {
        "id": "ZstfkT3buLCI",
        "colab_type": "code",
        "colab": {}
      },
      "source": [
        "headers={\n",
        "     'User-Agent': 'Mozilla/5.0 (Windows NT 10.0; Win64; x64) AppleWebKit/537.36 (KHTML, like Gecko) Chrome/75.0.3770.100 Safari/537.36',\n",
        "}\n",
        "\n",
        "\n",
        "from google.colab import files\n",
        "def SAVE(name,data,data2):\n",
        "  with open(name+'.txt', 'w') as f:\n",
        "        f.write(str(data))\n",
        "  files.download(name+'.txt')\n",
        "  \n",
        "  with open(name+'_Error.txt', 'w') as f:\n",
        "        f.write(str(data2))\n",
        "  files.download(name+'_Error.txt')\n",
        "\n",
        "\n",
        "def GetShoes(NumberOfBrand,NumberOfGroups,NumberOfShoes,Brand):\n",
        "  Shoes=[]\n",
        "\n",
        "  #NumberOfBrand   ##fisrt\n",
        "  #NumberOfGroups  ##second\n",
        "  #NumberOfShoes=  ##third\n",
        "  \n",
        "  TotalNum = 0 ## Num of shoes in total\n",
        "  ErrorList=[]\n",
        "\n",
        "\n",
        "  for z in tqdm(range(1,NumberOfBrand)):\n",
        "    print(\"Nike_Brand:\",Brand[z])\n",
        "\n",
        "    for i in tqdm(range(1,NumberOfGroups+1)):\n",
        "        if Brand[0]=='air_jordan':\n",
        "          link='https://stockx.com/api/browse?order=DESC$_tags='+Brand[z]+'%2Cair%20jordan&productCategory=sneakers&page='+str(i)  ## change i to realize \"read more\" in search page, each page have 40 item, file format: json\n",
        "        else:\n",
        "          link='https://stockx.com/api/browse?order=DESC$_tags='+Brand[z]+'%2C'+Brand[0]+'&productCategory=sneakers&page='+str(i)\n",
        "          \n",
        "        response = requests.get(url=link, headers=headers)\n",
        "        sleep(3*random.random())\n",
        "        try:\n",
        "          products=response.json().get(\"Products\")\n",
        "        except:\n",
        "          print(\"Network Error for Products\")\n",
        "          ErrorList.append([Brand[0],Brand[z],i,'product'])\n",
        "          continue\n",
        "\n",
        "\n",
        "\n",
        "        #print(products)\n",
        "        Shoes_subgroup=[]\n",
        "\n",
        "\n",
        "        for j in range(0,NumberOfShoes):   # for each item\n",
        "          item=products[j]\n",
        "          itemid=item.get(\"id\")      \n",
        "\n",
        "\n",
        "\n",
        "          ##Start\n",
        "          ShoeInfor={}\n",
        "          Tags1=['id','brand','category','productCategory','colorway','condition','minimumBid','gender','name','releaseDate','retailPrice','shoe']\n",
        "          ##tag\n",
        "          for tag1 in Tags1:\n",
        "              ShoeInfor[tag1]=item[tag1]\n",
        "          ##tag:market\n",
        "          Tags2=['lowestAsk','lowestAskSize','salesThisPeriod', 'highestBid',\n",
        "                'highestBidSize','numberOfBids','annualHigh', 'annualLow','volatility','deadstockSold',\n",
        "                'pricePremium','averageDeadstockPrice','salesLast72Hours','totalDollars','deadstockSoldRank',\n",
        "                'pricePremiumRank','averageDeadstockPriceRank']\n",
        "          for tag2 in Tags2:\n",
        "              ShoeInfor[tag2]=item['market'][tag2]\n",
        "          ##image\n",
        "          ShoeInfor['img']=item['media']['thumbUrl']\n",
        "          Shoes_subgroup.append(ShoeInfor)\n",
        "          print('Nike:'+Brand[z]+'Group:'+str(i)+' '+'Shoes:'+str(j)+'')\n",
        "          ##_____获取鞋子信息并存与Shoes_subgroup字典中_____End\n",
        "\n",
        "\n",
        "\n",
        "          #link2=\"https://stockx.com/api/products/\"+str(itemid)+\"/activity?state=480&currency=USD&sort=createdAt&order=DESC&page=1&limit=100\"  ##get the sale history of this item, format:Json, origin from \"view all sales\" -> \"load more\"\n",
        "          #print(link2)\n",
        "          #response2 = requests.get(url=link2, headers=headers)\n",
        "          #try:\n",
        "            #sales=response2.json()\n",
        "          #except:\n",
        "            #print(\"Network Error for sales\")\n",
        "            #ErrorList.append([Brand[z],i,j,'sale'])\n",
        "\n",
        "          #print(sales)\n",
        "          #itemurl=item.get(\"urlKey\")\n",
        "          #link3=\"https://stockx.com/\"+str(itemurl)  ## get the link of the wabpage of this item \n",
        "          #print(link3)\n",
        "          #link4=\"https://stockx.com/api/products/\"+str(itemid)+\"/related?currency=USD\"  #format:json store data in link3\n",
        "          #response4 = requests.get(url=link4, headers=headers)\n",
        "          #try:\n",
        "            #web4=response4.json()\n",
        "          #except:\n",
        "            #print(\"Network Error for web4\")\n",
        "            #ErrorList.append([Brand[z],i,j,'web'])\n",
        "          #print(web4) \n",
        "\n",
        "        print('group'+str(i)+':',len(Shoes_subgroup))\n",
        "        TotalNum+=len(Shoes_subgroup) \n",
        "\n",
        "\n",
        "        Shoes.append(Shoes_subgroup)\n",
        "  print(\"———————overview——————\")\n",
        "  print('Brand：',str(Brand[0:NumberOfBrand]),'inside',str(NumberOfGroups),'group','inside',str(NumberOfShoes),'shoes','  total:',TotalNum)\n",
        "\n",
        "  print('ErrorList',ErrorList)\n",
        "  return Shoes,ErrorList;"
      ],
      "execution_count": 0,
      "outputs": []
    },
    {
      "cell_type": "code",
      "metadata": {
        "id": "HJ_OipTM5ILV",
        "colab_type": "code",
        "colab": {}
      },
      "source": [
        "#Adidas_Brand=['adidas','other','yeezy','nmb','iniki','eqt','ultra%20boost']\n",
        "Adidas_Brand=['adidas','yeezy','nmb','iniki','eqt','ultra%20boost']\n",
        "Nike_Brand=['nike','foamposite','kd','kobe','lebron','basketball','sb','other','air%20force','air%20max']\n",
        "Air_Jordan=['air_jordan','one','two','three','four','five,','six','eight','nine','ten']\n",
        "\n",
        "\n",
        "Shoes=[]\n",
        "ErrorList=[]\n",
        "\n",
        "\n",
        "Shoes,ErrorList=GetShoes(len(Adidas_Brand),2,40,Adidas_Brand)\n",
        "SAVE(\"Adidas\",Shoes,ErrorList)\n",
        "\n",
        "#Shoes,ErrorList=GetShoes(2,2,3,Nike_Brand)\n",
        "#SAVE(\"Nike\",Shoes,ErrorList)\n",
        "\n",
        "#Shoes,ErrorList=GetShoes(3,2,3,Air_Jordan)\n",
        "#SAVE(\"Air_Jordan\",Shoes,ErrorList)\n"
      ],
      "execution_count": 0,
      "outputs": []
    },
    {
      "cell_type": "code",
      "metadata": {
        "id": "puYaAYuT-lbG",
        "colab_type": "code",
        "colab": {}
      },
      "source": [
        "\n",
        "\n",
        "Adidas_Brand=['adidas','yeezy','nmb','iniki','eqt','ultra%20boost']\n",
        "\n",
        "Headers={\n",
        "     'User-Agent': 'Mozilla/5.0 (Windows NT 10.0; Win64; x64) AppleWebKit/537.36 (KHTML, like Gecko) Chrome/75.0.3770.100 Safari/537.36',\n",
        "}\n",
        "\n",
        "Brand=Adidas_Brand\n",
        "\n",
        "\n",
        "\n",
        "for z in range(1,4):\n",
        "  for i in tqdm(range(1,2+1)):\n",
        "      if Brand[0]=='air_jordan':\n",
        "        link='https://stockx.com/api/browse?order=DESC$_tags='+Brand[z]+'%2Cair%20jordan&productCategory=sneakers&page='+str(i)  ## change i to realize \"read more\" in search page, each page have 40 item, file format: json\n",
        "      else:\n",
        "        link='https://stockx.com/api/browse?order=DESC$_tags='+Brand[z]+'%2C'+Brand[0]+'&productCategory=sneakers&page='+str(i)\n",
        "\n",
        "        response = requests.get(url=link, headers=Headers)\n",
        "        products=response.json().get(\"Products\")"
      ],
      "execution_count": 0,
      "outputs": []
    },
    {
      "cell_type": "code",
      "metadata": {
        "id": "5Uxe-SeVAotT",
        "colab_type": "code",
        "colab": {}
      },
      "source": [
        "\n",
        "print(\"Shoes:\",len(Shoes),\"group，inside\",len(Shoes[0]),'shoes')\n",
        "print(\"get shoes\")\n",
        "\n",
        "print(\"all\")\n",
        "print(list(Shoes[0][0].keys()))\n",
        "\n",
        "print(\"group2，shoes5， id:\",Shoes[2-1][5-1]['id'])\n"
      ],
      "execution_count": 0,
      "outputs": []
    },
    {
      "cell_type": "code",
      "metadata": {
        "id": "9duPWn0JDBQY",
        "colab_type": "code",
        "colab": {}
      },
      "source": [
        "headers={\n",
        "    'User-Agent': 'Mozilla/5.0 (Windows NT 10.0; Win64; x64) AppleWebKit/537.36 (KHTML, like Gecko) Chrome/75.0.3770.100 Safari/537.36',\n",
        "}\n",
        "\n",
        "cc1=\"__cfduid=daa32918fe9f677a9857162665d136ca21561303123; cto_lwid=e805ef4b-acff-42a7-97d6-5ebe70ea5484; _ga=GA1.2.504222914.1561303121; _tl_duuid=7f916ba9-fbf1-41c5-a068-cac32dacb018; _gcl_au=1.1.262236668.1561303122; tracker_device=c787c572-d0dd-4bef-9e07-a7c242ab09e1; ajs_group_id=null; ajs_anonymous_id=%22bf18f211-e38b-48c6-ab50-16c3d4851973%22; _fbp=fb.1.1561303124962.372030074; rskxRunCookie=0; rCookie=6te7blj4q5hxlpe2yt91; ajs_user_id=%227188a253-9a82-11e9-8880-12deb909e97c%22; _scid=49df186c-f566-429b-886c-a1bdb448a001; _sctr=1|1561780800000; _pxhd=0faf9a61070791dd43cc52fb909dcf09ae5f420a3dab8c35a5f6a6c32965cc30:7420a501-9cde-11e9-bfc7-49b8843beec2; _pxvid=7420a501-9cde-11e9-bfc7-49b8843beec2; _gid=GA1.2.25786316.1562084174; _sp_ses.1a3e=*; _tl_csid=ac31ade5-c7f6-4b3b-b3d8-f646f90b1ccb; is_gdpr=false; _pk_ses.421.1a3e=*; IR_gbd=stockx.com; show_all_as_number=false; brand_tiles_version=v1; show_bid_education=v5; show_bid_education_times=1; multi_edit_option=beatLowestAskBy; product_page_v2=watches%2Chandbags; show_watch_modal=true; _tl_auid=5d0f985447b29a00142488ee; _tl_sid=5d1b8350ab017400169d06e4; _tl_uid=7188a253-9a82-11e9-8880-12deb909e97c; stockx_selected_currency=USD; stockx_selected_locale=en_US; stockx_user_logged_in=true; token=eyJ0eXAiOiJKV1QiLCJhbGciOiJIUzI1NiJ9.eyJpc3MiOiJzdG9ja3guY29tIiwic3ViIjoic3RvY2t4LmNvbSIsImF1ZCI6IndlYiIsImFwcF9uYW1lIjoiSXJvbiIsImFwcF92ZXJzaW9uIjoiMi4wLjAiLCJpc3N1ZWRfYXQiOiIyMDE5LTA3LTAyIDE2OjE2OjIxIiwiY3VzdG9tZXJfaWQiOiI3NzEyMjY4IiwiZW1haWwiOiJrYXRoeW1haWwxNjNAMTYzLmNvbSIsImN1c3RvbWVyX3V1aWQiOiI3MTg4YTI1My05YTgyLTExZTktODg4MC0xMmRlYjkwOWU5N2MiLCJmaXJzdE5hbWUiOiJrbGEiLCJsYXN0TmFtZSI6ImdsdSIsImdkcHJfc3RhdHVzIjpudWxsLCJkZWZhdWx0X2N1cnJlbmN5IjoiVVNEIiwibGFuZ3VhZ2UiOiJlbi1VUyIsInNoaXBfYnlfZGF0ZSI6bnVsbCwidmFjYXRpb25fZGF0ZSI6bnVsbCwicHJvZHVjdF9jYXRlZ29yeSI6InNuZWFrZXJzIiwiaXNfYWRtaW4iOiIwIiwic2Vzc2lvbl9pZCI6IjEzMTAzNzExODYwNTE1MjExMzAwIiwiZXhwIjoxNTYyNjg4OTgxLCJhcGlfa2V5cyI6W119.POLvbCl5FwaEcv4Q-y68cwq4u69hfIVUdPCYcglGVuE; lastRskxRun=1562084187798; _pk_id.421.1a3e=cdd6ba815e54f024.1561303122.4.1562084188.1562084176.; tl_sopts_ac31ade5-c7f6-4b3b-b3d8-f646f90b1ccb_p_p_n=JTJGc25lYWtlcnM=; tl_sopts_ac31ade5-c7f6-4b3b-b3d8-f646f90b1ccb_p_p_l_h=aHR0cHMlM0ElMkYlMkZzdG9ja3guY29tJTJGc25lYWtlcnM=; tl_sopts_ac31ade5-c7f6-4b3b-b3d8-f646f90b1ccb_p_p_l_t=U3RvY2tYJTNBJTIwQnV5JTIwYW5kJTIwU2VsbCUyMFNuZWFrZXJzJTJDJTIwU3RyZWV0d2VhciUyQyUyMEhhbmRiYWdzJTJDJTIwV2F0Y2hlcw==; tl_sopts_ac31ade5-c7f6-4b3b-b3d8-f646f90b1ccb_p_p_l=JTdCJTIyaHJlZiUyMiUzQSUyMmh0dHBzJTNBJTJGJTJGc3RvY2t4LmNvbSUyRnNuZWFrZXJzJTIyJTJDJTIyaGFzaCUyMiUzQSUyMiUyMiUyQyUyMnNlYXJjaCUyMiUzQSUyMiUyMiUyQyUyMmhvc3QlMjIlM0ElMjJzdG9ja3guY29tJTIyJTJDJTIycHJvdG9jb2wlMjIlM0ElMjJodHRwcyUzQSUyMiUyQyUyMnBhdGhuYW1lJTIyJTNBJTIyJTJGc25lYWtlcnMlMjIlMkMlMjJ0aXRsZSUyMiUzQSUyMlN0b2NrWCUzQSUyMEJ1eSUyMGFuZCUyMFNlbGwlMjBTbmVha2VycyUyQyUyMFN0cmVldHdlYXIlMkMlMjBIYW5kYmFncyUyQyUyMFdhdGNoZXMlMjIlN0Q=; tl_sopts_ac31ade5-c7f6-4b3b-b3d8-f646f90b1ccb_p_p_v_d=MjAxOS0wNy0wMlQxNiUzQTE2JTNBMjcuODIxWg==; IR_9060=1562084182722%7C0%7C1562084176381%7C%7C; IR_PI=32bc3c01-95ca-11e9-9106-42010a246e03%7C1562170582722; stockx_homepage=sneakers; intercom-session-h1d8fvw9=OEVvV3VOOStKalcyOTRtSGhhSjhXbWxjNldTTzNoUHdWWjNhK3NuUEtJSWliOU0wblNJVW1YQXp0NHhsSGlXaS0tRm9VbjVpb3kwRGZUOTZwS2E2ZXNxQT09--ed42d06e225a7fd8149d78de465bea0657bafc71; _sp_id.1a3e=b02e58e2-3061-4247-974c-06ed75bdae85.1561303121.4.1562084205.1561825908.7c0c803c-b53e-480c-9b26-0ea4544e7503; cookie_policy_accepted=true\"\n",
        "cookies={}\n",
        "for line in cc1.split(';'):  \n",
        "    name,value=line.strip().split('=',1)\n",
        "    cookies[name]=value\n",
        "    \n",
        "print(cookies)"
      ],
      "execution_count": 0,
      "outputs": []
    },
    {
      "cell_type": "markdown",
      "metadata": {
        "id": "sLW_E1PVlZ6U",
        "colab_type": "text"
      },
      "source": [
        "--------------------start sales--------------------------------\n",
        "\n",
        "\n",
        "sales480 ask400 bid300    "
      ]
    },
    {
      "cell_type": "code",
      "metadata": {
        "id": "GwQulbRSQ370",
        "colab_type": "code",
        "colab": {}
      },
      "source": [
        "from google.colab import files\n",
        "files.upload()\n",
        "\n",
        "with open('shoes.txt','r') as shoes:\n",
        "     result= eval(shoes.read())\n",
        "print(len(result))\n",
        "\n",
        "id3=[]\n",
        "for i in range(0,len(result)):\n",
        "    result1 = result[i]\n",
        "    for j in range(len(result1)):\n",
        "        item=result1[j]\n",
        "        id3.append(result1[j]['id'])\n",
        "       \n",
        "print(len(id3))\n",
        "print(id3)\n"
      ],
      "execution_count": 0,
      "outputs": []
    },
    {
      "cell_type": "code",
      "metadata": {
        "id": "t0reZfnwxtWA",
        "colab_type": "code",
        "colab": {}
      },
      "source": [
        "def sale3(itemid,state3):\n",
        "  headers={'User-Agent': 'Mozilla/5.0 (Windows NT 10.0; Win64; x64) AppleWebKit/537.36 (KHTML, like Gecko) Chrome/75.0.3770.100 Safari/537.36',}\n",
        "\n",
        "  cc1=\"__cfduid=daa32918fe9f677a9857162665d136ca21561303123; cto_lwid=e805ef4b-acff-42a7-97d6-5ebe70ea5484; _ga=GA1.2.504222914.1561303121; _tl_duuid=7f916ba9-fbf1-41c5-a068-cac32dacb018; _gcl_au=1.1.262236668.1561303122; tracker_device=c787c572-d0dd-4bef-9e07-a7c242ab09e1; ajs_group_id=null; ajs_anonymous_id=%22bf18f211-e38b-48c6-ab50-16c3d4851973%22; _fbp=fb.1.1561303124962.372030074; rskxRunCookie=0; rCookie=6te7blj4q5hxlpe2yt91; ajs_user_id=%227188a253-9a82-11e9-8880-12deb909e97c%22; _scid=49df186c-f566-429b-886c-a1bdb448a001; _sctr=1|1561780800000; _pxhd=0faf9a61070791dd43cc52fb909dcf09ae5f420a3dab8c35a5f6a6c32965cc30:7420a501-9cde-11e9-bfc7-49b8843beec2; _pxvid=7420a501-9cde-11e9-bfc7-49b8843beec2; _gid=GA1.2.25786316.1562084174; _sp_ses.1a3e=*; _tl_csid=ac31ade5-c7f6-4b3b-b3d8-f646f90b1ccb; is_gdpr=false; _pk_ses.421.1a3e=*; IR_gbd=stockx.com; show_all_as_number=false; brand_tiles_version=v1; show_bid_education=v5; show_bid_education_times=1; multi_edit_option=beatLowestAskBy; product_page_v2=watches%2Chandbags; show_watch_modal=true; _tl_auid=5d0f985447b29a00142488ee; _tl_sid=5d1b8350ab017400169d06e4; _tl_uid=7188a253-9a82-11e9-8880-12deb909e97c; stockx_selected_currency=USD; stockx_selected_locale=en_US; stockx_user_logged_in=true; token=eyJ0eXAiOiJKV1QiLCJhbGciOiJIUzI1NiJ9.eyJpc3MiOiJzdG9ja3guY29tIiwic3ViIjoic3RvY2t4LmNvbSIsImF1ZCI6IndlYiIsImFwcF9uYW1lIjoiSXJvbiIsImFwcF92ZXJzaW9uIjoiMi4wLjAiLCJpc3N1ZWRfYXQiOiIyMDE5LTA3LTAyIDE2OjE2OjIxIiwiY3VzdG9tZXJfaWQiOiI3NzEyMjY4IiwiZW1haWwiOiJrYXRoeW1haWwxNjNAMTYzLmNvbSIsImN1c3RvbWVyX3V1aWQiOiI3MTg4YTI1My05YTgyLTExZTktODg4MC0xMmRlYjkwOWU5N2MiLCJmaXJzdE5hbWUiOiJrbGEiLCJsYXN0TmFtZSI6ImdsdSIsImdkcHJfc3RhdHVzIjpudWxsLCJkZWZhdWx0X2N1cnJlbmN5IjoiVVNEIiwibGFuZ3VhZ2UiOiJlbi1VUyIsInNoaXBfYnlfZGF0ZSI6bnVsbCwidmFjYXRpb25fZGF0ZSI6bnVsbCwicHJvZHVjdF9jYXRlZ29yeSI6InNuZWFrZXJzIiwiaXNfYWRtaW4iOiIwIiwic2Vzc2lvbl9pZCI6IjEzMTAzNzExODYwNTE1MjExMzAwIiwiZXhwIjoxNTYyNjg4OTgxLCJhcGlfa2V5cyI6W119.POLvbCl5FwaEcv4Q-y68cwq4u69hfIVUdPCYcglGVuE; lastRskxRun=1562084187798; _pk_id.421.1a3e=cdd6ba815e54f024.1561303122.4.1562084188.1562084176.; tl_sopts_ac31ade5-c7f6-4b3b-b3d8-f646f90b1ccb_p_p_n=JTJGc25lYWtlcnM=; tl_sopts_ac31ade5-c7f6-4b3b-b3d8-f646f90b1ccb_p_p_l_h=aHR0cHMlM0ElMkYlMkZzdG9ja3guY29tJTJGc25lYWtlcnM=; tl_sopts_ac31ade5-c7f6-4b3b-b3d8-f646f90b1ccb_p_p_l_t=U3RvY2tYJTNBJTIwQnV5JTIwYW5kJTIwU2VsbCUyMFNuZWFrZXJzJTJDJTIwU3RyZWV0d2VhciUyQyUyMEhhbmRiYWdzJTJDJTIwV2F0Y2hlcw==; tl_sopts_ac31ade5-c7f6-4b3b-b3d8-f646f90b1ccb_p_p_l=JTdCJTIyaHJlZiUyMiUzQSUyMmh0dHBzJTNBJTJGJTJGc3RvY2t4LmNvbSUyRnNuZWFrZXJzJTIyJTJDJTIyaGFzaCUyMiUzQSUyMiUyMiUyQyUyMnNlYXJjaCUyMiUzQSUyMiUyMiUyQyUyMmhvc3QlMjIlM0ElMjJzdG9ja3guY29tJTIyJTJDJTIycHJvdG9jb2wlMjIlM0ElMjJodHRwcyUzQSUyMiUyQyUyMnBhdGhuYW1lJTIyJTNBJTIyJTJGc25lYWtlcnMlMjIlMkMlMjJ0aXRsZSUyMiUzQSUyMlN0b2NrWCUzQSUyMEJ1eSUyMGFuZCUyMFNlbGwlMjBTbmVha2VycyUyQyUyMFN0cmVldHdlYXIlMkMlMjBIYW5kYmFncyUyQyUyMFdhdGNoZXMlMjIlN0Q=; tl_sopts_ac31ade5-c7f6-4b3b-b3d8-f646f90b1ccb_p_p_v_d=MjAxOS0wNy0wMlQxNiUzQTE2JTNBMjcuODIxWg==; IR_9060=1562084182722%7C0%7C1562084176381%7C%7C; IR_PI=32bc3c01-95ca-11e9-9106-42010a246e03%7C1562170582722; stockx_homepage=sneakers; intercom-session-h1d8fvw9=OEVvV3VOOStKalcyOTRtSGhhSjhXbWxjNldTTzNoUHdWWjNhK3NuUEtJSWliOU0wblNJVW1YQXp0NHhsSGlXaS0tRm9VbjVpb3kwRGZUOTZwS2E2ZXNxQT09--ed42d06e225a7fd8149d78de465bea0657bafc71; _sp_id.1a3e=b02e58e2-3061-4247-974c-06ed75bdae85.1561303121.4.1562084205.1561825908.7c0c803c-b53e-480c-9b26-0ea4544e7503; cookie_policy_accepted=true\"\n",
        "  cookies={}\n",
        "  for line in cc1.split(';'):  \n",
        "    name,value=line.strip().split('=',1)\n",
        "    cookies[name]=value\n",
        "  \n",
        "  link5=\"https://stockx.com/api/products/\"+str(itemid)+\"/activity?state=\"+str(state3)+\"&currency=USD&sort=createdAt&order=DESC&limit=20000&page=1\"\n",
        "  response5 = requests.get(url=link5, headers=headers, cookies=cookies)\n",
        "  page3=1\n",
        "  err3=0\n",
        "  #tmp=\"\"\n",
        "  sales5=[]\n",
        "  \n",
        "  try:\n",
        "    sales5=response5.json().get(\"ProductActivity\")\n",
        "    len5=len(sales5)\n",
        "    while(len5==20000):\n",
        "      page3+=1\n",
        "      link5=\"https://stockx.com/api/products/\"+str(itemid)+\"/activity?state=\"+str(state3)+\"&currency=USD&sort=createdAt&order=DESC&limit=20000&page=\"+str(page3)\n",
        "      sleep(3*random.random()) ##SLEEPPPPPPP\n",
        "      response5 = requests.get(url=link5, headers=headers, cookies=cookies)\n",
        "      try:\n",
        "        sales55=response5.json().get(\"ProductActivity\")\n",
        "        len5=len(sales55)\n",
        "        sales5+=sales55\n",
        "        sales55=[]\n",
        "        #print(\"page \",page3,\" len \",len(sales5))\n",
        "      except:\n",
        "        err3=1\n",
        "        #print(\"error2 \",page3)\n",
        "        break\n",
        "  except:\n",
        "    err3=1    \n",
        "        \n",
        "  if(err3==1):\n",
        "    return False\n",
        "  \n",
        "  return sales5 \n",
        "\n",
        "###########################！！！！！！！！！！！！！！！！！！！####################################\n",
        "def write5(sales5,state3,itemid,ff0):\n",
        "  mons=['-JAN-','-FEB-','-MAR-','-APR-','-MAY-','-JUN-','-JUL-','-AUG-','-SEP-','-OCT-','-NOV-','-DEC-' ]\n",
        "  for k5 in range(len(sales5)):\n",
        "    ttt=sales5[k5]\n",
        "    time5=ttt.get(\"createdAt\")      \n",
        "    #time5=time5[8:10]+mons[int(time5[5:7])-1]+time5[0:4]+\" \"+time5[11:19] #01-JAN-2019 01:00:00\n",
        "    time5=time5[0:19].replace('T',' ') #2019-01-01 01:00:00\n",
        "    tmp=str(itemid)+\"\\t\"+str(ttt.get(\"chainId\"))+\"\\t\"+str(ttt.get(\"amount\"))+\"\\t\"+time5+\"\\t\"+str(ttt.get(\"shoeSize\"))+\"\\t\"+str(ttt.get(\"skuUuid\"))\n",
        "    if(state3!=480):\n",
        "      tmp+=\"\\t\"+str(ttt.get(\"frequency\"))\n",
        "    tmp+=\"\\r\\n\"\n",
        "    ff0.write(tmp)\n",
        "  "
      ],
      "execution_count": 0,
      "outputs": []
    },
    {
      "cell_type": "code",
      "metadata": {
        "id": "GqrVAyhEP0VQ",
        "colab_type": "code",
        "colab": {}
      },
      "source": [
        "def getsales(id3):\n",
        "  errorlist=[]\n",
        "  ff1=open('f480.txt','a')\n",
        "  ff2=open('f400.txt','a')\n",
        "  ff3=open('f300.txt','a')\n",
        "  num=0\n",
        "  for itemid in id3:\n",
        "    num+=1\n",
        "    print(\"start:\",num)\n",
        "    for state3,ff0 in [(480,ff1),(400,ff2),(300,ff3)]:\n",
        "      sales5=[]\n",
        "      sales5=sale3(itemid,state3)\n",
        "      if(sales5==False):\n",
        "        errorlist.append([itemid,state3])\n",
        "        print(\"Error \",itemid,\" \",state3)\n",
        "      else:\n",
        "        write5(sales5,state3,itemid,ff0)\n",
        "\n",
        "  wloop=0\n",
        "  while((len(errorlist)>0)and(wloop<15)):\n",
        "    itemid,state3=errorlist.pop(0)\n",
        "    sales5=[]\n",
        "    sales5=sale3(itemid,state3)\n",
        "    ff0=ff3\n",
        "    if(state3==480):\n",
        "      ff0=ff1\n",
        "    elif(state3==400):\n",
        "      ff0=ff2\n",
        "      \n",
        "    if(sales5!=False):\n",
        "      write5(sales5,state3,itemid,ff0)\n",
        "      print(len(errorlist),\"   Succeed \",itemid,\" \",state3,\" len \",len(sales5))\n",
        "    else:\n",
        "      errorlist.append([itemid,state3])\n",
        "      wloop+=1\n",
        "      print(len(errorlist),\"   Error \",itemid,\" \",state3)\n",
        "  \n",
        "  ff1.close()\n",
        "  ff2.close()\n",
        "  ff3.close()\n",
        "  \n",
        "  return errorlist"
      ],
      "execution_count": 0,
      "outputs": []
    },
    {
      "cell_type": "code",
      "metadata": {
        "id": "2lwYeP-FQJHz",
        "colab_type": "code",
        "colab": {}
      },
      "source": [
        "#manual work for errorlist\n",
        "ff1=open('f480.txt','a')\n",
        "ff2=open('f400.txt','a')\n",
        "ff3=open('f300.txt','a')\n",
        "\n",
        "wloop=0\n",
        "while((len(errorlist)>0)and(wloop<15)):\n",
        "  itemid,state3=errorlist.pop(0)\n",
        "  sales5=[]\n",
        "  sales5=sale3(itemid,state3)\n",
        "  ff0=ff3\n",
        "  if(state3==480):\n",
        "    ff0=ff1\n",
        "  elif(state3==400):\n",
        "    ff0=ff2\n",
        "  \n",
        "  if(sales5!=False):\n",
        "    write5(sales5,state3,itemid,ff0)\n",
        "    print(len(errorlist),\"   Succeed \",itemid,\" \",state3,\" len \",len(sales5))\n",
        "  else:\n",
        "    errorlist.append([itemid,state3])\n",
        "    wloop+=1\n",
        "    print(len(errorlist),\"   Error \",itemid,\" \",state3)\n",
        "      \n",
        "ff1.close()\n",
        "ff2.close()\n",
        "ff3.close()"
      ],
      "execution_count": 0,
      "outputs": []
    },
    {
      "cell_type": "code",
      "metadata": {
        "id": "vZ1KckQtuZOn",
        "colab_type": "code",
        "colab": {}
      },
      "source": [
        "len(errorlist)"
      ],
      "execution_count": 0,
      "outputs": []
    },
    {
      "cell_type": "code",
      "metadata": {
        "id": "PGcV-8akGtSM",
        "colab_type": "code",
        "colab": {}
      },
      "source": [
        "files.download('f480.txt')\n",
        "files.download('f400.txt')\n",
        "files.download('f300.txt')"
      ],
      "execution_count": 0,
      "outputs": []
    },
    {
      "cell_type": "code",
      "metadata": {
        "id": "RWT3KUvLAWsp",
        "colab_type": "code",
        "colab": {}
      },
      "source": [
        "#file initiate\n",
        "with open('f480.txt','w') as ff1:\n",
        "  ff1.write(\"\")\n",
        "with open('f400.txt','w') as ff2:\n",
        "  ff2.write(\"\")\n",
        "with open('f300.txt','w') as ff3:\n",
        "  ff3.write(\"\")"
      ],
      "execution_count": 0,
      "outputs": []
    },
    {
      "cell_type": "code",
      "metadata": {
        "id": "9c41NjdyiYiR",
        "colab_type": "code",
        "colab": {}
      },
      "source": [
        "errorlist=getsales(id3[0:10])\n",
        "#  0:5   finished\n",
        "#  5:20  finished\n",
        "# 20:50  finished"
      ],
      "execution_count": 0,
      "outputs": []
    },
    {
      "cell_type": "markdown",
      "metadata": {
        "id": "ilfSZSzPz_dt",
        "colab_type": "text"
      },
      "source": [
        "--------------end sales-----------"
      ]
    },
    {
      "cell_type": "code",
      "metadata": {
        "id": "KApkWGidRGXk",
        "colab_type": "code",
        "colab": {}
      },
      "source": [
        "files.upload()\n",
        "\n",
        "import ast\n",
        "\n",
        "#Adidas_SALES\n",
        "#Air_Jordan_SALES\n",
        "#Nike_SALES\n",
        "#with open('Adidas_SALES.txt','r') as shoes:\n",
        "with open('Air_Jordan_SALES.txt','r') as shoes:\n",
        "#with open('Nike_SALES.txt','r') as shoes:\n",
        "  #result= eval(shoes.read())\n",
        "  result = ast.literal_eval(shoes.read())\n",
        "  print(len(result))"
      ],
      "execution_count": 0,
      "outputs": []
    },
    {
      "cell_type": "code",
      "metadata": {
        "id": "_WaoZAjaRu4x",
        "colab_type": "code",
        "colab": {}
      },
      "source": [
        "with open('sales1.txt','w') as ff1:\n",
        "  ff1.write(\"\")"
      ],
      "execution_count": 0,
      "outputs": []
    },
    {
      "cell_type": "code",
      "metadata": {
        "id": "OIKmyx_2RHPT",
        "colab_type": "code",
        "colab": {}
      },
      "source": [
        "ff0=open('sales1.txt','a')\n",
        "for i in range(len(result)):\n",
        "  itemid=result[i]['Pagination']['currentPage'].split('/')[4]\n",
        "  #print(itemid)\n",
        "  if(int(result[i]['Pagination']['total'])<=0):\n",
        "    continue;\n",
        "  result1=result[i]['ProductActivity']\n",
        "  write5(result1,480,itemid,ff0)\n",
        "\n",
        "ff0.close()\n",
        "print('done')"
      ],
      "execution_count": 0,
      "outputs": []
    },
    {
      "cell_type": "code",
      "metadata": {
        "id": "vYwXbBByRHYW",
        "colab_type": "code",
        "colab": {}
      },
      "source": [
        "files.download('sales1.txt')"
      ],
      "execution_count": 0,
      "outputs": []
    },
    {
      "cell_type": "code",
      "metadata": {
        "id": "Nd-hck0iRHhr",
        "colab_type": "code",
        "colab": {}
      },
      "source": [
        "!cat sales1.txt"
      ],
      "execution_count": 0,
      "outputs": []
    },
    {
      "cell_type": "code",
      "metadata": {
        "colab_type": "code",
        "id": "gJK3tZiQ2EaM",
        "colab": {}
      },
      "source": [
        "### unused now\n",
        "time5=\"2019-07-03T15:59:45+00:00\"\n",
        "mons=['-JAN-','-FEB-','-MAR-','-APR-','-MAY-','-JUN-','-JUL-','-AUG-','-SEP-','-OCT-','-NOV-','-DEC-' ]\n",
        "#x=int(time5[5:7])-1\n",
        "#print(x)\n",
        "time5=time5[8:10]+mons[int(time5[5:7])-1]+time5[0:4]+\" \"+time5[11:19]\n",
        "print(time5)"
      ],
      "execution_count": 0,
      "outputs": []
    }
  ]
}